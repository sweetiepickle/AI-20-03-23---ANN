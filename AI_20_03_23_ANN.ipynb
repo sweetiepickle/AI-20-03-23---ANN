{
  "nbformat": 4,
  "nbformat_minor": 0,
  "metadata": {
    "colab": {
      "provenance": [],
      "authorship_tag": "ABX9TyOFX52d+M4BYG7pl36usW7Q",
      "include_colab_link": true
    },
    "kernelspec": {
      "name": "python3",
      "display_name": "Python 3"
    },
    "language_info": {
      "name": "python"
    }
  },
  "cells": [
    {
      "cell_type": "markdown",
      "metadata": {
        "id": "view-in-github",
        "colab_type": "text"
      },
      "source": [
        "<a href=\"https://colab.research.google.com/github/sweetiepickle/AI-20-03-23---ANN/blob/main/AI_20_03_23_ANN.ipynb\" target=\"_parent\"><img src=\"https://colab.research.google.com/assets/colab-badge.svg\" alt=\"Open In Colab\"/></a>"
      ]
    },
    {
      "cell_type": "code",
      "execution_count": 1,
      "metadata": {
        "id": "p9WRG_wxjH70"
      },
      "outputs": [],
      "source": [
        "# artificial neuron network\n",
        "# tín hiệu ra perceptron là binary\n",
        "# hyper parameter : tham số bậc cao\n",
        "# bios : tham số bù , tín hiệu vào luôn là 1\n",
        "# tín hiệu ra đi vào hàm truyền sigmoid\n",
        "# perceptron là mảng 1 lớp (đơn bào)\n",
        "# mảng nhiều lớp : có hidden layers => 1 mạng thần kinh\n",
        "# mỗi lớp đều có hệ số bù bios\n",
        "# mỗi lần train có 1 kết quả khác nhau ,  độ chính xác khác nhau"
      ]
    },
    {
      "cell_type": "code",
      "source": [
        "#mô hình perceptron\n",
        "from sklearn.linear_model import Perceptron\n",
        "x= [[0,0],[0,1],[1,0],[1,1]]\n",
        "t= [0,1,1,1]"
      ],
      "metadata": {
        "id": "WRDhjBAwsGwg"
      },
      "execution_count": 2,
      "outputs": []
    },
    {
      "cell_type": "code",
      "source": [
        "model= Perceptron()\n",
        "model.fit(x,t)\n",
        "model.score(x,t)"
      ],
      "metadata": {
        "colab": {
          "base_uri": "https://localhost:8080/"
        },
        "id": "dDxFnstWuNF9",
        "outputId": "e4fe0a86-82c9-4a37-fb3c-002619f9ebd1"
      },
      "execution_count": 3,
      "outputs": [
        {
          "output_type": "execute_result",
          "data": {
            "text/plain": [
              "1.0"
            ]
          },
          "metadata": {},
          "execution_count": 3
        }
      ]
    },
    {
      "cell_type": "code",
      "source": [
        "x1= [[0.5,0.5],[-0.5,-0.5],[10,2.3],[-1,-20]]\n",
        "y1= model.predict(x1)\n",
        "print(y1)\n",
        "model.score(x1,y1)"
      ],
      "metadata": {
        "colab": {
          "base_uri": "https://localhost:8080/"
        },
        "id": "k6k2yDTXvBjO",
        "outputId": "bbed099f-4158-4bd2-cc88-80cb7b1a7501"
      },
      "execution_count": 4,
      "outputs": [
        {
          "output_type": "stream",
          "name": "stdout",
          "text": [
            "[1 0 1 0]\n"
          ]
        },
        {
          "output_type": "execute_result",
          "data": {
            "text/plain": [
              "1.0"
            ]
          },
          "metadata": {},
          "execution_count": 4
        }
      ]
    },
    {
      "cell_type": "code",
      "source": [
        "x2= [[-0.5,-0.5],[-0.5,0.5],[0.5,-0.5],[-0.1,1]]\n",
        "t2= [1,1,0,0]\n",
        "model= Perceptron()\n",
        "model.fit(x2,t2)\n",
        "model.score(x2,t2)"
      ],
      "metadata": {
        "colab": {
          "base_uri": "https://localhost:8080/"
        },
        "id": "DkrEkax9y2SN",
        "outputId": "b7d1df94-fac2-4b49-9ffb-242a93963a48"
      },
      "execution_count": 5,
      "outputs": [
        {
          "output_type": "execute_result",
          "data": {
            "text/plain": [
              "1.0"
            ]
          },
          "metadata": {},
          "execution_count": 5
        }
      ]
    },
    {
      "cell_type": "code",
      "source": [
        "x1= [[0.5,0.5],[-0.5,-0.5],[10,2.3],[-1,-20]]\n",
        "y1= model.predict(x1)\n",
        "print(y1)\n",
        "model.score(x1,y1)"
      ],
      "metadata": {
        "colab": {
          "base_uri": "https://localhost:8080/"
        },
        "id": "AyuuBrDH0S2d",
        "outputId": "dd23ede6-d63f-4713-b287-a93f6ea9bd87"
      },
      "execution_count": 6,
      "outputs": [
        {
          "output_type": "stream",
          "name": "stdout",
          "text": [
            "[0 1 0 1]\n"
          ]
        },
        {
          "output_type": "execute_result",
          "data": {
            "text/plain": [
              "1.0"
            ]
          },
          "metadata": {},
          "execution_count": 6
        }
      ]
    },
    {
      "cell_type": "code",
      "source": [
        "from sklearn.linear_model import Perceptron\n",
        "from sklearn import datasets\n",
        "from sklearn.model_selection import train_test_split\n",
        "\n",
        "# dữ liệu để test ko dùng để train và ngược lại\n",
        "from sklearn.metrics import accuracy_score\n",
        "from sklearn.preprocessing import StandardScaler\n",
        "iris= datasets.load_iris()\n",
        "x= iris.data\n",
        "y= iris.target\n",
        "print(x[:5])\n",
        "print(y[:5])"
      ],
      "metadata": {
        "colab": {
          "base_uri": "https://localhost:8080/"
        },
        "id": "w6wtwCmN2m88",
        "outputId": "b8286c0c-c426-40a8-9e8b-65d0727f6e09"
      },
      "execution_count": 7,
      "outputs": [
        {
          "output_type": "stream",
          "name": "stdout",
          "text": [
            "[[5.1 3.5 1.4 0.2]\n",
            " [4.9 3.  1.4 0.2]\n",
            " [4.7 3.2 1.3 0.2]\n",
            " [4.6 3.1 1.5 0.2]\n",
            " [5.  3.6 1.4 0.2]]\n",
            "[0 0 0 0 0]\n"
          ]
        }
      ]
    },
    {
      "cell_type": "code",
      "source": [
        "x_train, x_test, y_train, y_test= train_test_split(x, y, test_size= 0.3)\n",
        "sc= StandardScaler()\n",
        "sc.fit(x_train)\n",
        "x_train_std= sc.transform(x_train)\n",
        "x_test_std= sc.transform(x_test)\n",
        "print(x_train_std[:5], x_train[:5])\n",
        "print(y[:5])"
      ],
      "metadata": {
        "colab": {
          "base_uri": "https://localhost:8080/"
        },
        "id": "lZWXHr207G3n",
        "outputId": "f9a9405d-5746-4bbc-bbb9-a74ea0b453ee"
      },
      "execution_count": 8,
      "outputs": [
        {
          "output_type": "stream",
          "name": "stdout",
          "text": [
            "[[-1.06127082 -2.76851722 -0.15921861 -0.28666126]\n",
            " [ 2.20905829 -0.12824194  1.33963248  1.44472202]\n",
            " [ 0.99782528 -0.12824194  0.82079941  1.44472202]\n",
            " [ 0.27108548 -0.12824194  0.64785505  0.77880537]\n",
            " [-1.90913393 -0.12824194 -1.54277347 -1.48531122]] [[5.  2.  3.5 1. ]\n",
            " [7.7 3.  6.1 2.3]\n",
            " [6.7 3.  5.2 2.3]\n",
            " [6.1 3.  4.9 1.8]\n",
            " [4.3 3.  1.1 0.1]]\n",
            "[0 0 0 0 0]\n"
          ]
        }
      ]
    },
    {
      "cell_type": "code",
      "source": [
        "model= Perceptron(max_iter= 1000, eta0= 0.8, random_state= 0)\n",
        "#model= Perceptron(max_iter= 40, eta0= 0.1, random_state= 0) \n",
        "# max iter = epoch : số lần học\n",
        "# eta0 : tốc độ học ~(0,1)\n",
        "# random_state : trạng thái lấy giá trị ngẫu nhiên\n",
        "\n",
        "model.fit(x_train_std, y_train)\n",
        "y_pred= model.predict(x_test_std)\n",
        "print(y_pred)\n",
        "print(y_test)\n",
        "print('Độ chính xác mô hình: ', accuracy_score(y_test,y_pred))"
      ],
      "metadata": {
        "colab": {
          "base_uri": "https://localhost:8080/"
        },
        "id": "WAcbXhx78dUU",
        "outputId": "3e20a7e7-d69e-40d5-c1c9-1d3be9484c6b"
      },
      "execution_count": 9,
      "outputs": [
        {
          "output_type": "stream",
          "name": "stdout",
          "text": [
            "[0 1 1 2 1 2 0 2 2 0 0 1 2 2 0 2 1 1 0 1 0 2 2 1 1 0 1 2 0 0 1 0 1 1 0 1 1\n",
            " 2 0 0 2 1 1 0 0]\n",
            "[0 1 1 2 1 2 0 2 2 0 0 1 2 2 0 2 1 1 0 1 0 2 2 1 2 0 0 2 0 0 1 0 1 2 0 2 1\n",
            " 2 0 1 2 1 1 0 0]\n",
            "Độ chính xác mô hình:  0.8888888888888888\n"
          ]
        }
      ]
    },
    {
      "cell_type": "markdown",
      "source": [
        "crabs"
      ],
      "metadata": {
        "id": "RFCA51NODd_O"
      }
    },
    {
      "cell_type": "code",
      "source": [
        "import pandas as pd\n",
        "import numpy as np\n",
        "import matplotlib.pyplot as plt\n",
        "\n",
        "url = 'crabs.csv'\n",
        "data= pd.read_csv(url)\n",
        "\n",
        "import seaborn as sns\n",
        "sns.heatmap(data.corr(), annot= True)   \n",
        "data.hist()\n",
        "plt.show()\n",
        "data.head()"
      ],
      "metadata": {
        "colab": {
          "base_uri": "https://localhost:8080/",
          "height": 1000
        },
        "id": "tMZ-NNjQ_eXX",
        "outputId": "72554eb0-95cf-4d60-9c2a-94d5c5824c6c"
      },
      "execution_count": 11,
      "outputs": [
        {
          "output_type": "display_data",
          "data": {
            "text/plain": [
              "<Figure size 640x480 with 2 Axes>"
            ],
            "image/png": "[encoded data removed]"
          },
          "metadata": {}
        },
        {
          "output_type": "display_data",
          "data": {
            "text/plain": [
              "<Figure size 640x480 with 6 Axes>"
            ],
            "image/png": "[encoded data removed]"
          },
          "metadata": {}
        },
        {
          "output_type": "execute_result",
          "data": {
            "text/plain": [
              "  speies sex  index  fontallip  rearwidth  length  width  depth\n",
              "0      B   M      1        8.1        6.7    16.1   19.0    7.0\n",
              "1      B   M      2        8.8        7.7    18.1   20.8    7.4\n",
              "2      B   M      3        9.2        7.8    19.0   22.4    7.7\n",
              "3      B   M      4        9.6        7.9    20.1   23.1    8.2\n",
              "4      B   M      5        9.8        8.0    20.3   23.0    8.2"
            ],
            "text/html": [
              "\n",
              "  <div id=\"df-a83bbebe-5cd2-4cf8-b1fc-f258303f9d77\">\n",
              "    <div class=\"colab-df-container\">\n",
              "      <div>\n",
              "<style scoped>\n",
              "    .dataframe tbody tr th:only-of-type {\n",
              "        vertical-align: middle;\n",
              "    }\n",
              "\n",
              "    .dataframe tbody tr th {\n",
              "        vertical-align: top;\n",
              "    }\n",
              "\n",
              "    .dataframe thead th {\n",
              "        text-align: right;\n",
              "    }\n",
              "</style>\n",
              "<table border=\"1\" class=\"dataframe\">\n",
              "  <thead>\n",
              "    <tr style=\"text-align: right;\">\n",
              "      <th></th>\n",
              "      <th>speies</th>\n",
              "      <th>sex</th>\n",
              "      <th>index</th>\n",
              "      <th>fontallip</th>\n",
              "      <th>rearwidth</th>\n",
              "      <th>length</th>\n",
              "      <th>width</th>\n",
              "      <th>depth</th>\n",
              "    </tr>\n",
              "  </thead>\n",
              "  <tbody>\n",
              "    <tr>\n",
              "      <th>0</th>\n",
              "      <td>B</td>\n",
              "      <td>M</td>\n",
              "      <td>1</td>\n",
              "      <td>8.1</td>\n",
              "      <td>6.7</td>\n",
              "      <td>16.1</td>\n",
              "      <td>19.0</td>\n",
              "      <td>7.0</td>\n",
              "    </tr>\n",
              "    <tr>\n",
              "      <th>1</th>\n",
              "      <td>B</td>\n",
              "      <td>M</td>\n",
              "      <td>2</td>\n",
              "      <td>8.8</td>\n",
              "      <td>7.7</td>\n",
              "      <td>18.1</td>\n",
              "      <td>20.8</td>\n",
              "      <td>7.4</td>\n",
              "    </tr>\n",
              "    <tr>\n",
              "      <th>2</th>\n",
              "      <td>B</td>\n",
              "      <td>M</td>\n",
              "      <td>3</td>\n",
              "      <td>9.2</td>\n",
              "      <td>7.8</td>\n",
              "      <td>19.0</td>\n",
              "      <td>22.4</td>\n",
              "      <td>7.7</td>\n",
              "    </tr>\n",
              "    <tr>\n",
              "      <th>3</th>\n",
              "      <td>B</td>\n",
              "      <td>M</td>\n",
              "      <td>4</td>\n",
              "      <td>9.6</td>\n",
              "      <td>7.9</td>\n",
              "      <td>20.1</td>\n",
              "      <td>23.1</td>\n",
              "      <td>8.2</td>\n",
              "    </tr>\n",
              "    <tr>\n",
              "      <th>4</th>\n",
              "      <td>B</td>\n",
              "      <td>M</td>\n",
              "      <td>5</td>\n",
              "      <td>9.8</td>\n",
              "      <td>8.0</td>\n",
              "      <td>20.3</td>\n",
              "      <td>23.0</td>\n",
              "      <td>8.2</td>\n",
              "    </tr>\n",
              "  </tbody>\n",
              "</table>\n",
              "</div>\n",
              "      <button class=\"colab-df-convert\" onclick=\"convertToInteractive('df-a83bbebe-5cd2-4cf8-b1fc-f258303f9d77')\"\n",
              "              title=\"Convert this dataframe to an interactive table.\"\n",
              "              style=\"display:none;\">\n",
              "        \n",
              "  <svg xmlns=\"http://www.w3.org/2000/svg\" height=\"24px\"viewBox=\"0 0 24 24\"\n",
              "       width=\"24px\">\n",
              "    <path d=\"M0 0h24v24H0V0z\" fill=\"none\"/>\n",
              "    <path d=\"M18.56 5.44l.94 2.06.94-2.06 2.06-.94-2.06-.94-.94-2.06-.94 2.06-2.06.94zm-11 1L8.5 8.5l.94-2.06 2.06-.94-2.06-.94L8.5 2.5l-.94 2.06-2.06.94zm10 10l.94 2.06.94-2.06 2.06-.94-2.06-.94-.94-2.06-.94 2.06-2.06.94z\"/><path d=\"M17.41 7.96l-1.37-1.37c-.4-.4-.92-.59-1.43-.59-.52 0-1.04.2-1.43.59L10.3 9.45l-7.72 7.72c-.78.78-.78 2.05 0 2.83L4 21.41c.39.39.9.59 1.41.59.51 0 1.02-.2 1.41-.59l7.78-7.78 2.81-2.81c.8-.78.8-2.07 0-2.86zM5.41 20L4 18.59l7.72-7.72 1.47 1.35L5.41 20z\"/>\n",
              "  </svg>\n",
              "      </button>\n",
              "      \n",
              "  <style>\n",
              "    .colab-df-container {\n",
              "      display:flex;\n",
              "      flex-wrap:wrap;\n",
              "      gap: 12px;\n",
              "    }\n",
              "\n",
              "    .colab-df-convert {\n",
              "      background-color: #E8F0FE;\n",
              "      border: none;\n",
              "      border-radius: 50%;\n",
              "      cursor: pointer;\n",
              "      display: none;\n",
              "      fill: #1967D2;\n",
              "      height: 32px;\n",
              "      padding: 0 0 0 0;\n",
              "      width: 32px;\n",
              "    }\n",
              "\n",
              "    .colab-df-convert:hover {\n",
              "      background-color: #E2EBFA;\n",
              "      box-shadow: 0px 1px 2px rgba(60, 64, 67, 0.3), 0px 1px 3px 1px rgba(60, 64, 67, 0.15);\n",
              "      fill: #174EA6;\n",
              "    }\n",
              "\n",
              "    [theme=dark] .colab-df-convert {\n",
              "      background-color: #3B4455;\n",
              "      fill: #D2E3FC;\n",
              "    }\n",
              "\n",
              "    [theme=dark] .colab-df-convert:hover {\n",
              "      background-color: #434B5C;\n",
              "      box-shadow: 0px 1px 3px 1px rgba(0, 0, 0, 0.15);\n",
              "      filter: drop-shadow(0px 1px 2px rgba(0, 0, 0, 0.3));\n",
              "      fill: #FFFFFF;\n",
              "    }\n",
              "  </style>\n",
              "\n",
              "      <script>\n",
              "        const buttonEl =\n",
              "          document.querySelector('#df-a83bbebe-5cd2-4cf8-b1fc-f258303f9d77 button.colab-df-convert');\n",
              "        buttonEl.style.display =\n",
              "          google.colab.kernel.accessAllowed ? 'block' : 'none';\n",
              "\n",
              "        async function convertToInteractive(key) {\n",
              "          const element = document.querySelector('#df-a83bbebe-5cd2-4cf8-b1fc-f258303f9d77');\n",
              "          const dataTable =\n",
              "            await google.colab.kernel.invokeFunction('convertToInteractive',\n",
              "                                                     [key], {});\n",
              "          if (!dataTable) return;\n",
              "\n",
              "          const docLinkHtml = 'Like what you see? Visit the ' +\n",
              "            '<a target=\"_blank\" href=https://colab.research.google.com/notebooks/data_table.ipynb>data table notebook</a>'\n",
              "            + ' to learn more about interactive tables.';\n",
              "          element.innerHTML = '';\n",
              "          dataTable['output_type'] = 'display_data';\n",
              "          await google.colab.output.renderOutput(dataTable, element);\n",
              "          const docLink = document.createElement('div');\n",
              "          docLink.innerHTML = docLinkHtml;\n",
              "          element.appendChild(docLink);\n",
              "        }\n",
              "      </script>\n",
              "    </div>\n",
              "  </div>\n",
              "  "
            ]
          },
          "metadata": {},
          "execution_count": 11
        }
      ]
    },
    {
      "cell_type": "code",
      "source": [
        "data['sex']= data['sex'].replace('M','1')\n",
        "data['sex']= data['sex'].replace('F','0')\n",
        "data['speies']= data['speies'].replace('O','0')\n",
        "data['speies']= data['speies'].replace('B','1')\n",
        "\n",
        "data"
      ],
      "metadata": {
        "colab": {
          "base_uri": "https://localhost:8080/",
          "height": 423
        },
        "id": "XblJ_4aeAe8O",
        "outputId": "7c4908e1-ca72-411c-dad6-6eb9cd8667ab"
      },
      "execution_count": 12,
      "outputs": [
        {
          "output_type": "execute_result",
          "data": {
            "text/plain": [
              "    speies sex  index  fontallip  rearwidth  length  width  depth\n",
              "0        1   1      1        8.1        6.7    16.1   19.0    7.0\n",
              "1        1   1      2        8.8        7.7    18.1   20.8    7.4\n",
              "2        1   1      3        9.2        7.8    19.0   22.4    7.7\n",
              "3        1   1      4        9.6        7.9    20.1   23.1    8.2\n",
              "4        1   1      5        9.8        8.0    20.3   23.0    8.2\n",
              "..     ...  ..    ...        ...        ...     ...    ...    ...\n",
              "195      0   0     46       21.4       18.0    41.2   46.2   18.7\n",
              "196      0   0     47       21.7       17.1    41.7   47.2   19.6\n",
              "197      0   0     48       21.9       17.2    42.6   47.4   19.5\n",
              "198      0   0     49       22.5       17.2    43.0   48.7   19.8\n",
              "199      0   0     50       23.1       20.2    46.2   52.5   21.1\n",
              "\n",
              "[200 rows x 8 columns]"
            ],
            "text/html": [
              "\n",
              "  <div id=\"df-719ee0d4-b254-4d8e-83e6-4276d0679c8c\">\n",
              "    <div class=\"colab-df-container\">\n",
              "      <div>\n",
              "<style scoped>\n",
              "    .dataframe tbody tr th:only-of-type {\n",
              "        vertical-align: middle;\n",
              "    }\n",
              "\n",
              "    .dataframe tbody tr th {\n",
              "        vertical-align: top;\n",
              "    }\n",
              "\n",
              "    .dataframe thead th {\n",
              "        text-align: right;\n",
              "    }\n",
              "</style>\n",
              "<table border=\"1\" class=\"dataframe\">\n",
              "  <thead>\n",
              "    <tr style=\"text-align: right;\">\n",
              "      <th></th>\n",
              "      <th>speies</th>\n",
              "      <th>sex</th>\n",
              "      <th>index</th>\n",
              "      <th>fontallip</th>\n",
              "      <th>rearwidth</th>\n",
              "      <th>length</th>\n",
              "      <th>width</th>\n",
              "      <th>depth</th>\n",
              "    </tr>\n",
              "  </thead>\n",
              "  <tbody>\n",
              "    <tr>\n",
              "      <th>0</th>\n",
              "      <td>1</td>\n",
              "      <td>1</td>\n",
              "      <td>1</td>\n",
              "      <td>8.1</td>\n",
              "      <td>6.7</td>\n",
              "      <td>16.1</td>\n",
              "      <td>19.0</td>\n",
              "      <td>7.0</td>\n",
              "    </tr>\n",
              "    <tr>\n",
              "      <th>1</th>\n",
              "      <td>1</td>\n",
              "      <td>1</td>\n",
              "      <td>2</td>\n",
              "      <td>8.8</td>\n",
              "      <td>7.7</td>\n",
              "      <td>18.1</td>\n",
              "      <td>20.8</td>\n",
              "      <td>7.4</td>\n",
              "    </tr>\n",
              "    <tr>\n",
              "      <th>2</th>\n",
              "      <td>1</td>\n",
              "      <td>1</td>\n",
              "      <td>3</td>\n",
              "      <td>9.2</td>\n",
              "      <td>7.8</td>\n",
              "      <td>19.0</td>\n",
              "      <td>22.4</td>\n",
              "      <td>7.7</td>\n",
              "    </tr>\n",
              "    <tr>\n",
              "      <th>3</th>\n",
              "      <td>1</td>\n",
              "      <td>1</td>\n",
              "      <td>4</td>\n",
              "      <td>9.6</td>\n",
              "      <td>7.9</td>\n",
              "      <td>20.1</td>\n",
              "      <td>23.1</td>\n",
              "      <td>8.2</td>\n",
              "    </tr>\n",
              "    <tr>\n",
              "      <th>4</th>\n",
              "      <td>1</td>\n",
              "      <td>1</td>\n",
              "      <td>5</td>\n",
              "      <td>9.8</td>\n",
              "      <td>8.0</td>\n",
              "      <td>20.3</td>\n",
              "      <td>23.0</td>\n",
              "      <td>8.2</td>\n",
              "    </tr>\n",
              "    <tr>\n",
              "      <th>...</th>\n",
              "      <td>...</td>\n",
              "      <td>...</td>\n",
              "      <td>...</td>\n",
              "      <td>...</td>\n",
              "      <td>...</td>\n",
              "      <td>...</td>\n",
              "      <td>...</td>\n",
              "      <td>...</td>\n",
              "    </tr>\n",
              "    <tr>\n",
              "      <th>195</th>\n",
              "      <td>0</td>\n",
              "      <td>0</td>\n",
              "      <td>46</td>\n",
              "      <td>21.4</td>\n",
              "      <td>18.0</td>\n",
              "      <td>41.2</td>\n",
              "      <td>46.2</td>\n",
              "      <td>18.7</td>\n",
              "    </tr>\n",
              "    <tr>\n",
              "      <th>196</th>\n",
              "      <td>0</td>\n",
              "      <td>0</td>\n",
              "      <td>47</td>\n",
              "      <td>21.7</td>\n",
              "      <td>17.1</td>\n",
              "      <td>41.7</td>\n",
              "      <td>47.2</td>\n",
              "      <td>19.6</td>\n",
              "    </tr>\n",
              "    <tr>\n",
              "      <th>197</th>\n",
              "      <td>0</td>\n",
              "      <td>0</td>\n",
              "      <td>48</td>\n",
              "      <td>21.9</td>\n",
              "      <td>17.2</td>\n",
              "      <td>42.6</td>\n",
              "      <td>47.4</td>\n",
              "      <td>19.5</td>\n",
              "    </tr>\n",
              "    <tr>\n",
              "      <th>198</th>\n",
              "      <td>0</td>\n",
              "      <td>0</td>\n",
              "      <td>49</td>\n",
              "      <td>22.5</td>\n",
              "      <td>17.2</td>\n",
              "      <td>43.0</td>\n",
              "      <td>48.7</td>\n",
              "      <td>19.8</td>\n",
              "    </tr>\n",
              "    <tr>\n",
              "      <th>199</th>\n",
              "      <td>0</td>\n",
              "      <td>0</td>\n",
              "      <td>50</td>\n",
              "      <td>23.1</td>\n",
              "      <td>20.2</td>\n",
              "      <td>46.2</td>\n",
              "      <td>52.5</td>\n",
              "      <td>21.1</td>\n",
              "    </tr>\n",
              "  </tbody>\n",
              "</table>\n",
              "<p>200 rows × 8 columns</p>\n",
              "</div>\n",
              "      <button class=\"colab-df-convert\" onclick=\"convertToInteractive('df-719ee0d4-b254-4d8e-83e6-4276d0679c8c')\"\n",
              "              title=\"Convert this dataframe to an interactive table.\"\n",
              "              style=\"display:none;\">\n",
              "        \n",
              "  <svg xmlns=\"http://www.w3.org/2000/svg\" height=\"24px\"viewBox=\"0 0 24 24\"\n",
              "       width=\"24px\">\n",
              "    <path d=\"M0 0h24v24H0V0z\" fill=\"none\"/>\n",
              "    <path d=\"M18.56 5.44l.94 2.06.94-2.06 2.06-.94-2.06-.94-.94-2.06-.94 2.06-2.06.94zm-11 1L8.5 8.5l.94-2.06 2.06-.94-2.06-.94L8.5 2.5l-.94 2.06-2.06.94zm10 10l.94 2.06.94-2.06 2.06-.94-2.06-.94-.94-2.06-.94 2.06-2.06.94z\"/><path d=\"M17.41 7.96l-1.37-1.37c-.4-.4-.92-.59-1.43-.59-.52 0-1.04.2-1.43.59L10.3 9.45l-7.72 7.72c-.78.78-.78 2.05 0 2.83L4 21.41c.39.39.9.59 1.41.59.51 0 1.02-.2 1.41-.59l7.78-7.78 2.81-2.81c.8-.78.8-2.07 0-2.86zM5.41 20L4 18.59l7.72-7.72 1.47 1.35L5.41 20z\"/>\n",
              "  </svg>\n",
              "      </button>\n",
              "      \n",
              "  <style>\n",
              "    .colab-df-container {\n",
              "      display:flex;\n",
              "      flex-wrap:wrap;\n",
              "      gap: 12px;\n",
              "    }\n",
              "\n",
              "    .colab-df-convert {\n",
              "      background-color: #E8F0FE;\n",
              "      border: none;\n",
              "      border-radius: 50%;\n",
              "      cursor: pointer;\n",
              "      display: none;\n",
              "      fill: #1967D2;\n",
              "      height: 32px;\n",
              "      padding: 0 0 0 0;\n",
              "      width: 32px;\n",
              "    }\n",
              "\n",
              "    .colab-df-convert:hover {\n",
              "      background-color: #E2EBFA;\n",
              "      box-shadow: 0px 1px 2px rgba(60, 64, 67, 0.3), 0px 1px 3px 1px rgba(60, 64, 67, 0.15);\n",
              "      fill: #174EA6;\n",
              "    }\n",
              "\n",
              "    [theme=dark] .colab-df-convert {\n",
              "      background-color: #3B4455;\n",
              "      fill: #D2E3FC;\n",
              "    }\n",
              "\n",
              "    [theme=dark] .colab-df-convert:hover {\n",
              "      background-color: #434B5C;\n",
              "      box-shadow: 0px 1px 3px 1px rgba(0, 0, 0, 0.15);\n",
              "      filter: drop-shadow(0px 1px 2px rgba(0, 0, 0, 0.3));\n",
              "      fill: #FFFFFF;\n",
              "    }\n",
              "  </style>\n",
              "\n",
              "      <script>\n",
              "        const buttonEl =\n",
              "          document.querySelector('#df-719ee0d4-b254-4d8e-83e6-4276d0679c8c button.colab-df-convert');\n",
              "        buttonEl.style.display =\n",
              "          google.colab.kernel.accessAllowed ? 'block' : 'none';\n",
              "\n",
              "        async function convertToInteractive(key) {\n",
              "          const element = document.querySelector('#df-719ee0d4-b254-4d8e-83e6-4276d0679c8c');\n",
              "          const dataTable =\n",
              "            await google.colab.kernel.invokeFunction('convertToInteractive',\n",
              "                                                     [key], {});\n",
              "          if (!dataTable) return;\n",
              "\n",
              "          const docLinkHtml = 'Like what you see? Visit the ' +\n",
              "            '<a target=\"_blank\" href=https://colab.research.google.com/notebooks/data_table.ipynb>data table notebook</a>'\n",
              "            + ' to learn more about interactive tables.';\n",
              "          element.innerHTML = '';\n",
              "          dataTable['output_type'] = 'display_data';\n",
              "          await google.colab.output.renderOutput(dataTable, element);\n",
              "          const docLink = document.createElement('div');\n",
              "          docLink.innerHTML = docLinkHtml;\n",
              "          element.appendChild(docLink);\n",
              "        }\n",
              "      </script>\n",
              "    </div>\n",
              "  </div>\n",
              "  "
            ]
          },
          "metadata": {},
          "execution_count": 12
        }
      ]
    },
    {
      "cell_type": "code",
      "source": [
        "# chuyển giá trị cột thành list\n",
        "x= data[\"speies\"].values.tolist()\n",
        "y= data[\"sex\"].values.tolist()\n",
        "print('speies: ',x)\n",
        "print('Số phần tử speies: ',len(x))\n",
        "\n",
        "print('sex: ',y)\n",
        "print('Số phần tử sex: ',len(y))"
      ],
      "metadata": {
        "id": "YQSNds1vJ_kS",
        "outputId": "b08d0dcc-2bcb-4570-8ef9-09fc68b1f072",
        "colab": {
          "base_uri": "https://localhost:8080/"
        }
      },
      "execution_count": 13,
      "outputs": [
        {
          "output_type": "stream",
          "name": "stdout",
          "text": [
            "speies:  ['1', '1', '1', '1', '1', '1', '1', '1', '1', '1', '1', '1', '1', '1', '1', '1', '1', '1', '1', '1', '1', '1', '1', '1', '1', '1', '1', '1', '1', '1', '1', '1', '1', '1', '1', '1', '1', '1', '1', '1', '1', '1', '1', '1', '1', '1', '1', '1', '1', '1', '1', '1', '1', '1', '1', '1', '1', '1', '1', '1', '1', '1', '1', '1', '1', '1', '1', '1', '1', '1', '1', '1', '1', '1', '1', '1', '1', '1', '1', '1', '1', '1', '1', '1', '1', '1', '1', '1', '1', '1', '1', '1', '1', '1', '1', '1', '1', '1', '1', '1', '0', '0', '0', '0', '0', '0', '0', '0', '0', '0', '0', '0', '0', '0', '0', '0', '0', '0', '0', '0', '0', '0', '0', '0', '0', '0', '0', '0', '0', '0', '0', '0', '0', '0', '0', '0', '0', '0', '0', '0', '0', '0', '0', '0', '0', '0', '0', '0', '0', '0', '0', '0', '0', '0', '0', '0', '0', '0', '0', '0', '0', '0', '0', '0', '0', '0', '0', '0', '0', '0', '0', '0', '0', '0', '0', '0', '0', '0', '0', '0', '0', '0', '0', '0', '0', '0', '0', '0', '0', '0', '0', '0', '0', '0', '0', '0', '0', '0', '0', '0']\n",
            "Số phần tử speies:  200\n",
            "sex:  ['1', '1', '1', '1', '1', '1', '1', '1', '1', '1', '1', '1', '1', '1', '1', '1', '1', '1', '1', '1', '1', '1', '1', '1', '1', '1', '1', '1', '1', '1', '1', '1', '1', '1', '1', '1', '1', '1', '1', '1', '1', '1', '1', '1', '1', '1', '1', '1', '1', '1', '0', '0', '0', '0', '0', '0', '0', '0', '0', '0', '0', '0', '0', '0', '0', '0', '0', '0', '0', '0', '0', '0', '0', '0', '0', '0', '0', '0', '0', '0', '0', '0', '0', '0', '0', '0', '0', '0', '0', '0', '0', '0', '0', '0', '0', '0', '0', '0', '0', '0', '1', '1', '1', '1', '1', '1', '1', '1', '1', '1', '1', '1', '1', '1', '1', '1', '1', '1', '1', '1', '1', '1', '1', '1', '1', '1', '1', '1', '1', '1', '1', '1', '1', '1', '1', '1', '1', '1', '1', '1', '1', '1', '1', '1', '1', '1', '1', '1', '1', '1', '0', '0', '0', '0', '0', '0', '0', '0', '0', '0', '0', '0', '0', '0', '0', '0', '0', '0', '0', '0', '0', '0', '0', '0', '0', '0', '0', '0', '0', '0', '0', '0', '0', '0', '0', '0', '0', '0', '0', '0', '0', '0', '0', '0', '0', '0', '0', '0', '0', '0']\n",
            "Số phần tử sex:  200\n"
          ]
        }
      ]
    },
    {
      "cell_type": "code",
      "source": [
        "# dự đoán đầu ra là sex dựa vào các thông số khác\n",
        "output= pd.Series(data.sex).tolist()\n",
        "print('Output Data: ', output)"
      ],
      "metadata": {
        "colab": {
          "base_uri": "https://localhost:8080/"
        },
        "id": "Rr0m5dr1qu-4",
        "outputId": "ac9cbb15-1b06-47af-d601-28ead0ff1835"
      },
      "execution_count": 41,
      "outputs": [
        {
          "output_type": "stream",
          "name": "stdout",
          "text": [
            "Output Data:  ['1', '1', '1', '1', '1', '1', '1', '1', '1', '1', '1', '1', '1', '1', '1', '1', '1', '1', '1', '1', '1', '1', '1', '1', '1', '1', '1', '1', '1', '1', '1', '1', '1', '1', '1', '1', '1', '1', '1', '1', '1', '1', '1', '1', '1', '1', '1', '1', '1', '1', '0', '0', '0', '0', '0', '0', '0', '0', '0', '0', '0', '0', '0', '0', '0', '0', '0', '0', '0', '0', '0', '0', '0', '0', '0', '0', '0', '0', '0', '0', '0', '0', '0', '0', '0', '0', '0', '0', '0', '0', '0', '0', '0', '0', '0', '0', '0', '0', '0', '0', '1', '1', '1', '1', '1', '1', '1', '1', '1', '1', '1', '1', '1', '1', '1', '1', '1', '1', '1', '1', '1', '1', '1', '1', '1', '1', '1', '1', '1', '1', '1', '1', '1', '1', '1', '1', '1', '1', '1', '1', '1', '1', '1', '1', '1', '1', '1', '1', '1', '1', '0', '0', '0', '0', '0', '0', '0', '0', '0', '0', '0', '0', '0', '0', '0', '0', '0', '0', '0', '0', '0', '0', '0', '0', '0', '0', '0', '0', '0', '0', '0', '0', '0', '0', '0', '0', '0', '0', '0', '0', '0', '0', '0', '0', '0', '0', '0', '0', '0', '0']\n"
          ]
        }
      ]
    },
    {
      "cell_type": "code",
      "source": [
        "# when the input array is too big and multidimensional or we just don’t know the total elements in the input array.\n",
        "# But we want to convert that to a 1D array. In such scenarios we can pass the size as -1\n",
        "input = data.drop('sex', axis= 1).values.reshape( data.shape[0], 7)\n",
        "print('Input Data: \\n', input)"
      ],
      "metadata": {
        "colab": {
          "base_uri": "https://localhost:8080/"
        },
        "id": "Om0mC-WjYMv5",
        "outputId": "f6a3b158-b989-449e-da3c-f7bf32daa517"
      },
      "execution_count": 72,
      "outputs": [
        {
          "output_type": "stream",
          "name": "stdout",
          "text": [
            "Input Data: \n",
            " [['1' 1 8.1 ... 16.1 19.0 7.0]\n",
            " ['1' 2 8.8 ... 18.1 20.8 7.4]\n",
            " ['1' 3 9.2 ... 19.0 22.4 7.7]\n",
            " ...\n",
            " ['0' 48 21.9 ... 42.6 47.4 19.5]\n",
            " ['0' 49 22.5 ... 43.0 48.7 19.8]\n",
            " ['0' 50 23.1 ... 46.2 52.5 21.1]]\n"
          ]
        }
      ]
    },
    {
      "cell_type": "code",
      "source": [
        "#model= Perceptron(max_iter= 300, eta0= 0.8, random_state= 0)\n",
        "model.fit(input,output)\n",
        "print('Accuracy: ' , model.score(input,output))"
      ],
      "metadata": {
        "colab": {
          "base_uri": "https://localhost:8080/"
        },
        "id": "e_BZrB-FDIaf",
        "outputId": "fa6a8989-9e08-47c2-ab8b-c344b9da29a7"
      },
      "execution_count": 76,
      "outputs": [
        {
          "output_type": "stream",
          "name": "stdout",
          "text": [
            "Accuracy:  0.58\n"
          ]
        }
      ]
    }
  ]
}